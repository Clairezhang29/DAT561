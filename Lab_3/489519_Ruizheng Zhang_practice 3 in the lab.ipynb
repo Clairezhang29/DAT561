{
 "cells": [
  {
   "cell_type": "markdown",
   "metadata": {},
   "source": [
    "# Practice with New Objects\n"
   ]
  },
  {
   "cell_type": "markdown",
   "metadata": {},
   "source": [
    "## Practice with Dictionaries"
   ]
  },
  {
   "cell_type": "markdown",
   "metadata": {},
   "source": [
    "From the dictionary, produce a list of strings, where each element in the list is a last name.  Your code should work for an arbitrary dictionary formatted as given below. Please print Last names in the dictionary."
   ]
  },
  {
   "cell_type": "code",
   "execution_count": 33,
   "metadata": {},
   "outputs": [
    {
     "data": {
      "text/plain": [
       "['Tutun', 'Jake']"
      ]
     },
     "execution_count": 33,
     "metadata": {},
     "output_type": "execute_result"
    }
   ],
   "source": [
    "d = {1: \"Salih Tutun\", 2 : \"Dennis Jake\"}\n",
    "\n",
    "#Write your code here\n",
    "\n",
    "last_names = []\n",
    "last_name = []\n",
    "\n",
    "for name in d.values():\n",
    "    last_names.append(name.split(\" \")[1])\n",
    "\n",
    "last_names"
   ]
  },
  {
   "cell_type": "code",
   "execution_count": 48,
   "metadata": {},
   "outputs": [
    {
     "data": {
      "text/plain": [
       "['Tutun', 'Jake']"
      ]
     },
     "execution_count": 48,
     "metadata": {},
     "output_type": "execute_result"
    }
   ],
   "source": [
    "d = {1: \"Salih Tutun\", 2 : \"Dennis Jake\"}\n",
    "\n",
    "last_names = []\n",
    "last_name = []\n",
    "\n",
    "for i in d.keys():\n",
    "    full_name = d[i]\n",
    "    \n",
    "    j = 0\n",
    "    for char in full_name:\n",
    "        if char == \" \":\n",
    "            space_index = j\n",
    "            break\n",
    "        j += 1\n",
    "    last_name = full_name[space_index+1:]\n",
    "    last_names += [last_name]\n",
    "\n",
    "last_names"
   ]
  },
  {
   "cell_type": "markdown",
   "metadata": {},
   "source": [
    "Consider the following dictionary D of scores.  From this dictionary, produce another dictionary where the keys are the names and the values are the average scores."
   ]
  },
  {
   "cell_type": "code",
   "execution_count": 56,
   "metadata": {},
   "outputs": [],
   "source": [
    "# creating a new dictionary \n",
    "D = {\"Jake\" : [99,87,91, 77], \"Charlie\" : [100,100,99], \"Ellen\" : [95,70, 85,100,100]}\n",
    "\n",
    "#Write your code here\n",
    "for name in D.keys():\n",
    "    scores = D[name]\n",
    "    D[name] = round(sum(scores)/len(scores)\n",
    "    "
   ]
  },
  {
   "cell_type": "code",
   "execution_count": 108,
   "metadata": {},
   "outputs": [
    {
     "name": "stdout",
     "output_type": "stream",
     "text": [
      "('Jake', 1)\n",
      "100\n",
      "('Charlie', 2)\n",
      "200\n",
      "('Ellen', 3)\n",
      "300\n"
     ]
    }
   ],
   "source": [
    "my_dict = {(\"Jake\",1) : 100, (\"Charlie\",2) : 200, (\"Ellen\",3) : 300}  \n",
    "# list out keys and values separately \n",
    "for key,value in my_dict.items():\n",
    "    print(key)\n",
    "    print(value)\n",
    "    \n",
    "# one-liner \n",
    "#print(list(my_dict.keys())[list(my_dict.values()).index(200)]) "
   ]
  },
  {
   "cell_type": "markdown",
   "metadata": {},
   "source": [
    "Write the code to check whether the inputted sentence is a pangram, meaning that it contains all 26 letters.  "
   ]
  },
  {
   "cell_type": "code",
   "execution_count": 49,
   "metadata": {},
   "outputs": [
    {
     "name": "stdout",
     "output_type": "stream",
     "text": [
      "The sentence is a pangram\n"
     ]
    }
   ],
   "source": [
    "sentence = \"the quick brown fox jumps over the lazy dog\"\n",
    "#Write your code here\n",
    "\n",
    "a_list=[]\n",
    "\n",
    "for i in range(len(sentence)):\n",
    "    if sentence[i] != \" \" and sentence[i] not in a_list:\n",
    "        a_list.append(sentence[i])\n",
    "if len(a_list) == 26:\n",
    "    print(\"The sentence is a pangram\")\n",
    "else:\n",
    "    print(\"The sentence is not a pangram\")"
   ]
  },
  {
   "cell_type": "markdown",
   "metadata": {},
   "source": [
    "## Practice with String Methods\n",
    "\n",
    "Use the **count** method to count the number of times that str1 appears in str2."
   ]
  },
  {
   "cell_type": "code",
   "execution_count": 67,
   "metadata": {},
   "outputs": [
    {
     "name": "stdout",
     "output_type": "stream",
     "text": [
      "2\n"
     ]
    }
   ],
   "source": [
    "str1 = \"co\"\n",
    "str2 = \"coding in school is cool\"\n",
    "#Write your code here\n",
    "count = 0\n",
    "for i in range(len(str2)-len(str1)+1):   #for i in range(len(str2))\n",
    "    if str2[i: i+len(str1)] == str1:\n",
    "        count += 1\n",
    "print(count)"
   ]
  },
  {
   "cell_type": "code",
   "execution_count": 68,
   "metadata": {},
   "outputs": [
    {
     "data": {
      "text/plain": [
       "2"
      ]
     },
     "execution_count": 68,
     "metadata": {},
     "output_type": "execute_result"
    }
   ],
   "source": [
    "str2.count(str1)"
   ]
  },
  {
   "cell_type": "markdown",
   "metadata": {},
   "source": [
    "Count the number of words that start with a vowel (a,e,i,o,u) in the following sentences.  The code should work for any sentence. The **split**, **replace** and **lower** methods will be useful here."
   ]
  },
  {
   "cell_type": "code",
   "execution_count": 72,
   "metadata": {},
   "outputs": [],
   "source": [
    "sentence = \"\"\"Jake likes to eat apples. So, he went to the store to acquire some. \n",
    "He used his coupons and then he declared: I love apples.\"\"\"\n",
    "\n",
    "#Write your code here\n",
    "vowel = [\"a\", \"e\", \"i\", \"o\", \"u\"]\n",
    "char = sentence.lower().replace(\",\", \"\").replace(\".\", \"\").replace(\"\\n\", \"\").replace(\":\", \"\").split(\" \")"
   ]
  },
  {
   "cell_type": "code",
   "execution_count": 70,
   "metadata": {},
   "outputs": [
    {
     "name": "stdout",
     "output_type": "stream",
     "text": [
      "7\n"
     ]
    }
   ],
   "source": [
    "count = 0\n",
    "for c in char:\n",
    "    if c[0] in vowel:\n",
    "        count += 1\n",
    "print(count)"
   ]
  },
  {
   "cell_type": "markdown",
   "metadata": {},
   "source": [
    "\n",
    "## Practice with List Methods\n",
    " \n",
    "Store all of the words with more than 5 letters in a list. Use the **append** method for lists and the **strip** method for strings to get rid of punctuation."
   ]
  },
  {
   "cell_type": "code",
   "execution_count": 84,
   "metadata": {},
   "outputs": [
    {
     "data": {
      "text/plain": [
       "['apples', 'acquire', 'coupons', 'declared', 'apples']"
      ]
     },
     "execution_count": 84,
     "metadata": {},
     "output_type": "execute_result"
    }
   ],
   "source": [
    "sentence = \"\"\"Jake likes to eat apples. So, he went to the store to acquire some. \n",
    "He used his coupons and then he declared: I love apples.\"\"\"\n",
    "\n",
    "#Write you code here\n",
    "results = []\n",
    "word_list = sentence.split(\" \")\n",
    "for word in word_list:\n",
    "    correct_word = word.strip(\"\\n,.:\")\n",
    "    if len(correct_word) > 5:\n",
    "        results += [correct_word]\n",
    "results"
   ]
  },
  {
   "cell_type": "markdown",
   "metadata": {},
   "source": [
    "From the list L, created a list of lists called Q, which slices around the number 4. For example, if  L = [1,2,3,4,5,6], then Q = [[1,2,3], [5,6]].  The code should work for general L with a single 4. Use the **index** and **append** methods. "
   ]
  },
  {
   "cell_type": "code",
   "execution_count": 106,
   "metadata": {},
   "outputs": [],
   "source": [
    "L=[1,2,3,4,6,5,4,10,3]\n",
    "\n",
    "#Write you code here\n",
    "\n",
    "Q = []\n",
    "first_section = L[:L.index(4)]\n",
    "rest = L[L.index(4)+1:]\n",
    "Q.append(first_section)\n",
    "second_section = rest[:rest.index(4)]\n",
    "Q.append(second_section)\n",
    "rest = rest[rest.index(4)+1:]\n",
    "Q.append(rest)"
   ]
  },
  {
   "cell_type": "code",
   "execution_count": 107,
   "metadata": {},
   "outputs": [
    {
     "data": {
      "text/plain": [
       "[[1, 2, 3], [6, 5], [10, 3]]"
      ]
     },
     "execution_count": 107,
     "metadata": {},
     "output_type": "execute_result"
    }
   ],
   "source": [
    "Q"
   ]
  }
 ],
 "metadata": {
  "kernelspec": {
   "display_name": "Python 3",
   "language": "python",
   "name": "python3"
  },
  "language_info": {
   "codemirror_mode": {
    "name": "ipython",
    "version": 3
   },
   "file_extension": ".py",
   "mimetype": "text/x-python",
   "name": "python",
   "nbconvert_exporter": "python",
   "pygments_lexer": "ipython3",
   "version": "3.8.5"
  },
  "toc": {
   "colors": {
    "hover_highlight": "#DAA520",
    "navigate_num": "#000000",
    "navigate_text": "#333333",
    "running_highlight": "#FF0000",
    "selected_highlight": "#FFD700",
    "sidebar_border": "#EEEEEE",
    "wrapper_background": "#FFFFFF"
   },
   "moveMenuLeft": true,
   "nav_menu": {
    "height": "66px",
    "width": "252px"
   },
   "navigate_menu": true,
   "number_sections": true,
   "sideBar": true,
   "skip_h1_title": false,
   "threshold": 4,
   "toc_cell": false,
   "toc_position": {},
   "toc_section_display": "block",
   "toc_window_display": false,
   "widenNotebook": false
  }
 },
 "nbformat": 4,
 "nbformat_minor": 2
}
