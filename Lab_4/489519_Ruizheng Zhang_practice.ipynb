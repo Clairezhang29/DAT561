{
 "cells": [
  {
   "cell_type": "markdown",
   "metadata": {},
   "source": [
    "# Files Practice"
   ]
  },
  {
   "cell_type": "markdown",
   "metadata": {},
   "source": [
    "Read in the text file 'Pizza_File.txt'  and find the number of times the letter a (upper or lower case) appears. Also compute the average number of slices consumed."
   ]
  },
  {
   "cell_type": "code",
   "execution_count": 75,
   "metadata": {},
   "outputs": [
    {
     "name": "stdout",
     "output_type": "stream",
     "text": [
      "Letter 'a' appears 7 times.\n"
     ]
    }
   ],
   "source": [
    "p_f = open('data/Pizza_File.txt', 'r')\n",
    "p_t= p_f.readlines()\n",
    "text = p_t[0].strip('\\n:').lower()\n",
    "count = text.count('a')\n",
    "print(\"Letter 'a' appears %d times.\"%count)"
   ]
  },
  {
   "cell_type": "code",
   "execution_count": 76,
   "metadata": {},
   "outputs": [
    {
     "name": "stdout",
     "output_type": "stream",
     "text": [
      "The average slices was 6.166667\n"
     ]
    }
   ],
   "source": [
    "slices = p_t[1].strip(\" \").split(\",\")\n",
    "int_slices = []\n",
    "for s in slices:\n",
    "    int_slices.append(int(s))\n",
    "avg_n = sum(int_slices)/len(int_slices)\n",
    "print(\"The average slices was %f\"%avg_n)"
   ]
  },
  {
   "cell_type": "code",
   "execution_count": 77,
   "metadata": {},
   "outputs": [],
   "source": [
    "p_f.close()"
   ]
  },
  {
   "cell_type": "markdown",
   "metadata": {},
   "source": [
    "Read in the text file 'scores.txt' and create a dictionary where the keys are the names and the values are lists of scores"
   ]
  },
  {
   "cell_type": "code",
   "execution_count": 78,
   "metadata": {},
   "outputs": [],
   "source": [
    "#Write your code here\n",
    "s_f = open('data/scores.txt', 'r')\n",
    "scores = s_f.readlines()"
   ]
  },
  {
   "cell_type": "code",
   "execution_count": 79,
   "metadata": {},
   "outputs": [],
   "source": [
    "d = {}\n",
    "for s in scores:\n",
    "    l = s.strip('\\n').replace(\" \", \"\").split(\",\")\n",
    "    key = l[0]\n",
    "    values = l[1:]\n",
    "    int_values = []\n",
    "    for value in values:\n",
    "        int_values.append(int(value))\n",
    "    d[key] = int_values"
   ]
  },
  {
   "cell_type": "code",
   "execution_count": 80,
   "metadata": {},
   "outputs": [
    {
     "data": {
      "text/plain": [
       "{'Jake': [100, 100, 100, 101, 99],\n",
       " 'Dennis': [101, 99, 101, 99],\n",
       " 'Amr': [0, 1, 2, 3, 4, 5]}"
      ]
     },
     "execution_count": 80,
     "metadata": {},
     "output_type": "execute_result"
    }
   ],
   "source": [
    "d"
   ]
  },
  {
   "cell_type": "markdown",
   "metadata": {},
   "source": [
    "Read in the file 'user_likes.txt' and create a dictionary where the keys are the movies and the values are the fraction of times this movie was liked."
   ]
  },
  {
   "cell_type": "code",
   "execution_count": 81,
   "metadata": {},
   "outputs": [],
   "source": [
    "#Write your code here\n",
    "\n",
    "l_f = open('data/user_likes.txt', 'r')\n",
    "user_likes = l_f.readlines()[:-2]"
   ]
  },
  {
   "cell_type": "code",
   "execution_count": 82,
   "metadata": {},
   "outputs": [],
   "source": [
    "d = {}\n",
    "for like in user_likes:\n",
    "    user_like = like.strip('\\n').split(',')\n",
    "    movie = user_like[1]\n",
    "    if movie not in d:\n",
    "        d[movie] = [int(user_like[2])]\n",
    "    else:\n",
    "        d[movie].append(int(user_like[2]))"
   ]
  },
  {
   "cell_type": "code",
   "execution_count": 83,
   "metadata": {},
   "outputs": [
    {
     "data": {
      "text/plain": [
       "{'Suicide Squad': 0.4,\n",
       " 'The Great Wall': 0.5,\n",
       " 'La La Land': 1.0,\n",
       " 'Rogue One': 1.0}"
      ]
     },
     "execution_count": 83,
     "metadata": {},
     "output_type": "execute_result"
    }
   ],
   "source": [
    "for movie in d:\n",
    "    scores = d[movie]\n",
    "    fraction = sum(scores) / len(scores)\n",
    "    d[movie] = fraction\n",
    "d"
   ]
  },
  {
   "cell_type": "markdown",
   "metadata": {},
   "source": [
    "The folder Stock_Data contains stock price information (open, hi, low, close, adj close, volume) on all of the stocks listed in stock_tickers.csv.  For each of the stocks listed in this file, we would like to compute the average open price for the first quarter and write these results to new csv called Q1_Results.csv.\n",
    "\n",
    "\n",
    "First read the 20 stock tickers into a list from the file stock_tickers.csv"
   ]
  },
  {
   "cell_type": "code",
   "execution_count": 84,
   "metadata": {},
   "outputs": [],
   "source": [
    "#Write your code here\n",
    "files = open('data/Stock_Data/stock_tickers.csv', 'r')\n",
    "lines = files.readlines()\n",
    "file_list = []\n",
    "for line in lines:\n",
    "    file_list.append(line.strip('\\n'))"
   ]
  },
  {
   "cell_type": "markdown",
   "metadata": {},
   "source": [
    "Next, create a dictionary where there is a key for each stock and the values are a list of the opening prices for the first quarter"
   ]
  },
  {
   "cell_type": "code",
   "execution_count": 85,
   "metadata": {},
   "outputs": [],
   "source": [
    "#Write your code here\n",
    "result = {}\n",
    "for file in file_list:\n",
    "    f = open('data/Stock_Data/%s.csv'%file, 'r')\n",
    "    stock = f.readlines()[1:]\n",
    "    q1_price = []\n",
    "    for s in stock:\n",
    "        i = s.split(',')\n",
    "        date = i[1]\n",
    "        open_price = float(i[2])\n",
    "        month = int(date.split('-')[1])\n",
    "        if month <= 3:\n",
    "            q1_price.append(open_price)\n",
    "    result[file] = q1_price\n",
    "    f.close()"
   ]
  },
  {
   "cell_type": "markdown",
   "metadata": {},
   "source": [
    "The final step is writing the result to a new csv called Q1_results.csv"
   ]
  },
  {
   "cell_type": "code",
   "execution_count": 86,
   "metadata": {},
   "outputs": [],
   "source": [
    "#Write your code here\n",
    "\n",
    "q1 = open('data/Stock_Data/Q1_results.csv', 'w')\n",
    "for stock in result:\n",
    "    price = result[stock]\n",
    "    avg = sum(price)/len(price)\n",
    "    q1.write('%s %0.2f\\n'%(stock, avg))"
   ]
  },
  {
   "cell_type": "code",
   "execution_count": 87,
   "metadata": {},
   "outputs": [],
   "source": [
    "q1.close()"
   ]
  },
  {
   "cell_type": "code",
   "execution_count": null,
   "metadata": {},
   "outputs": [],
   "source": []
  }
 ],
 "metadata": {
  "kernelspec": {
   "display_name": "Python 3",
   "language": "python",
   "name": "python3"
  },
  "language_info": {
   "codemirror_mode": {
    "name": "ipython",
    "version": 3
   },
   "file_extension": ".py",
   "mimetype": "text/x-python",
   "name": "python",
   "nbconvert_exporter": "python",
   "pygments_lexer": "ipython3",
   "version": "3.8.5"
  },
  "toc": {
   "colors": {
    "hover_highlight": "#DAA520",
    "navigate_num": "#000000",
    "navigate_text": "#333333",
    "running_highlight": "#FF0000",
    "selected_highlight": "#FFD700",
    "sidebar_border": "#EEEEEE",
    "wrapper_background": "#FFFFFF"
   },
   "moveMenuLeft": true,
   "nav_menu": {
    "height": "30px",
    "width": "252px"
   },
   "navigate_menu": true,
   "number_sections": true,
   "sideBar": true,
   "threshold": 4,
   "toc_cell": false,
   "toc_section_display": "block",
   "toc_window_display": false,
   "widenNotebook": false
  }
 },
 "nbformat": 4,
 "nbformat_minor": 2
}
