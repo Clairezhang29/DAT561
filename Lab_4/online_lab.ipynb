{
 "cells": [
  {
   "cell_type": "markdown",
   "metadata": {},
   "source": [
    "# Minimum Wage Average\n",
    "\n",
    "Your first task is to read the minumum wage data from the the file \"Min_Wage_data.csv\" and produce a dictionary that ultimately has a key for each state in the data set whose value is the average 2018 wage over  all of the years for which there is data for the given state.  Then create a file called \"min_wage_by_state.csv\" that has a row for each state in the data.  The first column of this csv should be the state and the second column should be average minimum wage.  You may choose to have column titles if you want, but this is not necessary."
   ]
  },
  {
   "cell_type": "code",
   "execution_count": 32,
   "metadata": {},
   "outputs": [],
   "source": [
    "file = open(\"data/Min_Wage_data.csv\", \"r\")"
   ]
  },
  {
   "cell_type": "code",
   "execution_count": 33,
   "metadata": {},
   "outputs": [],
   "source": [
    "data = file.readlines()"
   ]
  },
  {
   "cell_type": "code",
   "execution_count": 34,
   "metadata": {},
   "outputs": [],
   "source": [
    "data = data[1:]"
   ]
  },
  {
   "cell_type": "code",
   "execution_count": 47,
   "metadata": {},
   "outputs": [],
   "source": [
    "wage_2018 = {}\n",
    "for d in data:\n",
    "    d = d.strip('\\n').split(',')\n",
    "    state = d[1]\n",
    "    if state not in wage_2018:\n",
    "        wage_2018[state] = [float(d[3])]\n",
    "    else:\n",
    "        wage_2018[state].append(float(d[3]))"
   ]
  },
  {
   "cell_type": "code",
   "execution_count": 57,
   "metadata": {},
   "outputs": [],
   "source": [
    "new_file = open(\"data/min_wage_by_state.csv\", 'w')"
   ]
  },
  {
   "cell_type": "code",
   "execution_count": 58,
   "metadata": {
    "scrolled": false
   },
   "outputs": [],
   "source": [
    "for state, wage in wage_2018.items():\n",
    "    avg_wage = sum(wage)/len(wage)\n",
    "    new_file.write('%s,%0.2f\\n'%(state, avg_wage))"
   ]
  },
  {
   "cell_type": "code",
   "execution_count": 59,
   "metadata": {},
   "outputs": [],
   "source": [
    "new_file.close()"
   ]
  },
  {
   "cell_type": "code",
   "execution_count": 60,
   "metadata": {},
   "outputs": [],
   "source": [
    "file = open('data/min_wage_by_state.csv', 'r')"
   ]
  },
  {
   "cell_type": "code",
   "execution_count": 61,
   "metadata": {},
   "outputs": [
    {
     "data": {
      "text/plain": [
       "'Alaska,9.58\\nArizona,6.58\\nArkansas,6.78\\nCalifornia,8.63\\nColorado,6.69\\nConnecticut,8.85\\nDelaware,7.50\\nDistrict of Columbia,9.73\\nFederal (FLSA),8.00\\nGuam,8.08\\nHawaii,8.29\\nIdaho,6.94\\nIndiana,6.30\\nKentucky,6.41\\nMaine,8.36\\nMaryland,7.91\\nMassachusetts,8.76\\nMichigan,7.78\\nMinnesota,7.61\\nNebraska,6.53\\nNevada,7.79\\nNew Hampshire,8.00\\nNew Jersey,8.12\\nNew Mexico,7.48\\nNew York,8.30\\nNorth Carolina,7.37\\nNorth Dakota,7.63\\nOhio,6.86\\nOklahoma,7.26\\nOregon,8.51\\nPennsylvania,7.84\\nPuerto Rico,7.86\\nRhode Island,8.32\\nSouth Dakota,6.76\\nUtah,7.17\\nVermont,8.66\\nWashington,8.33\\nWest Virginia,7.17\\nWisconsin,7.69\\nWyoming,5.15\\nGeorgia,5.34\\nIllinois,7.37\\nMontana,7.13\\nTexas,6.02\\nVirginia,7.02\\nKansas,4.71\\nU.S. Virgin Islands,7.55\\nIowa,7.57\\nMissouri,7.50\\nFlorida,8.25\\n'"
      ]
     },
     "execution_count": 61,
     "metadata": {},
     "output_type": "execute_result"
    }
   ],
   "source": [
    "file.read()"
   ]
  },
  {
   "cell_type": "code",
   "execution_count": null,
   "metadata": {},
   "outputs": [],
   "source": []
  }
 ],
 "metadata": {
  "kernelspec": {
   "display_name": "Python 3",
   "language": "python",
   "name": "python3"
  },
  "language_info": {
   "codemirror_mode": {
    "name": "ipython",
    "version": 3
   },
   "file_extension": ".py",
   "mimetype": "text/x-python",
   "name": "python",
   "nbconvert_exporter": "python",
   "pygments_lexer": "ipython3",
   "version": "3.8.5"
  },
  "toc": {
   "colors": {
    "hover_highlight": "#DAA520",
    "navigate_num": "#000000",
    "navigate_text": "#333333",
    "running_highlight": "#FF0000",
    "selected_highlight": "#FFD700",
    "sidebar_border": "#EEEEEE",
    "wrapper_background": "#FFFFFF"
   },
   "moveMenuLeft": true,
   "nav_menu": {
    "height": "30px",
    "width": "252px"
   },
   "navigate_menu": true,
   "number_sections": true,
   "sideBar": true,
   "threshold": 4,
   "toc_cell": false,
   "toc_section_display": "block",
   "toc_window_display": false,
   "widenNotebook": false
  }
 },
 "nbformat": 4,
 "nbformat_minor": 2
}
