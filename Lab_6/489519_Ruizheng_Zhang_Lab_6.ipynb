{
 "cells": [
  {
   "cell_type": "markdown",
   "metadata": {},
   "source": [
    "# Variable Assignment Practice\n",
    "\n",
    "For each block of code, predict what will be printed out."
   ]
  },
  {
   "cell_type": "code",
   "execution_count": 1,
   "metadata": {},
   "outputs": [],
   "source": [
    "from IPython.core.interactiveshell import InteractiveShell\n",
    "InteractiveShell.ast_node_interactivity = \"all\"\n"
   ]
  },
  {
   "cell_type": "code",
   "execution_count": 2,
   "metadata": {},
   "outputs": [
    {
     "name": "stdout",
     "output_type": "stream",
     "text": [
      "Today is \n",
      "Monday\n",
      "\n",
      "\n",
      "\n",
      "\n",
      "Today is Monday\n",
      "Today is \n",
      "Monday\n",
      "\n",
      "\n",
      "\n",
      "\n",
      "Today is Monday\n",
      "Monday\n"
     ]
    }
   ],
   "source": [
    "def concatenate(str_1, str_2):\n",
    "    str_1 = str_1 + str_2\n",
    "    return str_1 \n",
    "\n",
    "str_1 = \"Today is \"\n",
    "str_2 = \"Monday\"\n",
    "\n",
    "print(str_1)\n",
    "print(str_2)\n",
    "print(\"\\n\\n\\n\")\n",
    "      \n",
    "print(concatenate(str_1, str_2))\n",
    "print(str_1)\n",
    "print(str_2)\n",
    "print(\"\\n\\n\\n\")\n",
    "\n",
    "str_1 = concatenate(str_1, str_2)\n",
    "print(str_1)\n",
    "print(str_2)\n"
   ]
  },
  {
   "cell_type": "code",
   "execution_count": 3,
   "metadata": {},
   "outputs": [
    {
     "name": "stdout",
     "output_type": "stream",
     "text": [
      "Before calling Sum1, x is a\n",
      "Before calling Sum1, y is b\n",
      "Inside function Sum1, x is 5\n",
      "Inside function Sum1, y is 1\n",
      "Inside function Sum2, x is a\n",
      "Inside function Sum2, y is 5\n"
     ]
    }
   ],
   "source": [
    "\n",
    "def Sum1():\n",
    "    x = 5\n",
    "    y = 1\n",
    "    print(\"Inside function Sum1, x is %s\" % x)\n",
    "    print(\"Inside function Sum1, y is %s\" % y)    \n",
    "    Sum2(x)\n",
    "    return\n",
    "\n",
    "def Sum2(y):\n",
    "    print(\"Inside function Sum2, x is %s\" % x)\n",
    "    print(\"Inside function Sum2, y is %s\" % y)\n",
    "\n",
    "x = \"a\"\n",
    "y = \"b\"\n",
    "print(\"Before calling Sum1, x is %s\" % x)\n",
    "print(\"Before calling Sum1, y is %s\" % y)\n",
    "Sum1()\n"
   ]
  },
  {
   "cell_type": "code",
   "execution_count": 4,
   "metadata": {},
   "outputs": [
    {
     "name": "stdout",
     "output_type": "stream",
     "text": [
      "Before function call GetMedianIndex, l = [4, 3, 1, 4, 2, 6, 7]\n",
      "Inside the function GetMedianIndex, l = [1, 2, 3, 4, 4, 6, 7]\n",
      "After function call GetMedianIndex, l = [1, 2, 3, 4, 4, 6, 7]\n",
      "After function call CutList, l = [1, 2, 3]\n"
     ]
    }
   ],
   "source": [
    "\n",
    "def GetMedianIndex(l):\n",
    "    print(\"Inside the function GetMedianIndex, l = %s\" % str(l))\n",
    "    index = int(len(l) / 2)\n",
    "    return index\n",
    "\n",
    "def CutList(middle, sortedList):\n",
    "    cutList = sortedList[:middle]\n",
    "    return cutList\n",
    "\n",
    "l = [4,3,1,4,2,6,7]\n",
    "print(\"Before function call GetMedianIndex, l = %s\" % str(l))\n",
    "l.sort()\n",
    "\n",
    "middle = GetMedianIndex(l)\n",
    "print(\"After function call GetMedianIndex, l = %s\" % str(l))\n",
    "l = CutList(middle, l)\n",
    "print(\"After function call CutList, l = %s\" % str(l))\n"
   ]
  },
  {
   "cell_type": "code",
   "execution_count": 5,
   "metadata": {},
   "outputs": [
    {
     "data": {
      "text/plain": [
       "'Charlie Dilly'"
      ]
     },
     "execution_count": 5,
     "metadata": {},
     "output_type": "execute_result"
    },
    {
     "data": {
      "text/plain": [
       "'Charlie'"
      ]
     },
     "execution_count": 5,
     "metadata": {},
     "output_type": "execute_result"
    }
   ],
   "source": [
    "name_1 = \"Charlie\"\n",
    "\n",
    "name_2 = name_1\n",
    "\n",
    "name_1+= \" Dilly\"\n",
    "\n",
    "name_1\n",
    "name_2"
   ]
  },
  {
   "cell_type": "code",
   "execution_count": 6,
   "metadata": {},
   "outputs": [
    {
     "data": {
      "text/plain": [
       "[10, 2, 3]"
      ]
     },
     "execution_count": 6,
     "metadata": {},
     "output_type": "execute_result"
    },
    {
     "data": {
      "text/plain": [
       "[4, 5, 6]"
      ]
     },
     "execution_count": 6,
     "metadata": {},
     "output_type": "execute_result"
    },
    {
     "data": {
      "text/plain": [
       "[[10, 2, 3], [4, 5, 6]]"
      ]
     },
     "execution_count": 6,
     "metadata": {},
     "output_type": "execute_result"
    }
   ],
   "source": [
    "L1 = [1,2,3]\n",
    "L2 = [4,5,6]\n",
    "L3 = [L1,L2]\n",
    "\n",
    "L1[0]= 10\n",
    "\n",
    "L1\n",
    "L2\n",
    "L3"
   ]
  },
  {
   "cell_type": "markdown",
   "metadata": {},
   "source": [
    "# More Function Practice"
   ]
  },
  {
   "cell_type": "markdown",
   "metadata": {},
   "source": [
    "In this problem, you will implement the mathematically interesting Look-and-Say sequence:\n",
    "\n",
    "1, 11, 21, 1211, 111221, 312211, 13112221, ...\n",
    "\n",
    "Construct the following functions to accomplish out task\n",
    "\n",
    "1. **Parse_String(term)**: Takes in a term of the sequence as a string a returns a list of lists, which keeps track of the the numbers appearing from left to right and the number of times the element appears. So Parse_String('1211') should return [[1,1], [1,2], [2,1]] since there is \"one 1\", then \"one 2\" and then \"two 1s\".\n",
    "\n",
    "2. **Next_Term(term)**: Takes as input a term of the sequence as a string and return the next term in the sequence.  So Parse_String('1211') should return '111221'.  This function should call the function Parse_String.\n",
    "\n",
    "3. **Read_It(init,n)**: Given an initital term in the sequence that is init, print out the next n-1 terms."
   ]
  },
  {
   "cell_type": "code",
   "execution_count": 21,
   "metadata": {},
   "outputs": [],
   "source": [
    "t = '1211'\n",
    "def Parse_String(term):\n",
    "    \"\"\"Term is a term in the sequence inputted as a string.\n",
    "    You should return a lists of lists that will help you\n",
    "    get the next term in the sequence\"\"\"\n",
    "    count = 1\n",
    "    l = []\n",
    "    i = 0\n",
    "    j = 0\n",
    "    while j < len(term) and i < len(term):\n",
    "        j = i + 1\n",
    "        cur = term[i]\n",
    "        while j < len(term):\n",
    "            if cur == t[j]:\n",
    "                count += 1\n",
    "                j += 1                \n",
    "            else:\n",
    "                l.append([str(count), str(cur)])\n",
    "                count = 1\n",
    "                i = j\n",
    "                break\n",
    "    l.append([str(count), str(cur)])    \n",
    "    return l"
   ]
  },
  {
   "cell_type": "code",
   "execution_count": 22,
   "metadata": {},
   "outputs": [
    {
     "data": {
      "text/plain": [
       "[['1', '1'], ['1', '2'], ['2', '1']]"
      ]
     },
     "execution_count": 22,
     "metadata": {},
     "output_type": "execute_result"
    }
   ],
   "source": [
    "Parse_String(t)"
   ]
  },
  {
   "cell_type": "code",
   "execution_count": 23,
   "metadata": {},
   "outputs": [],
   "source": [
    "t = '1211'\n",
    "def Parse_String(term):\n",
    "    \"\"\"Term is a term in the sequence inputted as a string.\n",
    "    You should return a lists of lists that will help you\n",
    "    get the next term in the sequence\"\"\"\n",
    "    current = [term[0]]\n",
    "    final = []\n",
    "    for i in term[1:]:\n",
    "        if i in current:\n",
    "            current.append(i)\n",
    "        else:\n",
    "            final.append([str(len(current)), current[0]])\n",
    "            current = [i]\n",
    "    final.append([str(len(current)), current[0]])\n",
    "    return final"
   ]
  },
  {
   "cell_type": "code",
   "execution_count": 24,
   "metadata": {},
   "outputs": [
    {
     "data": {
      "text/plain": [
       "[['1', '1'], ['1', '2'], ['2', '1']]"
      ]
     },
     "execution_count": 24,
     "metadata": {},
     "output_type": "execute_result"
    }
   ],
   "source": [
    "Parse_String(t)"
   ]
  },
  {
   "cell_type": "code",
   "execution_count": 25,
   "metadata": {},
   "outputs": [],
   "source": [
    "def Next_Term(term):\n",
    "    \n",
    "    next_list = Parse_String(term)\n",
    "    next_term = ''\n",
    "    for i in next_list:\n",
    "        next_term = next_term + i[0] + i[1]\n",
    "    \n",
    "    print(next_term)\n",
    "    return next_term"
   ]
  },
  {
   "cell_type": "code",
   "execution_count": 44,
   "metadata": {},
   "outputs": [
    {
     "name": "stdout",
     "output_type": "stream",
     "text": [
      "111221\n"
     ]
    },
    {
     "data": {
      "text/plain": [
       "'111221'"
      ]
     },
     "execution_count": 44,
     "metadata": {},
     "output_type": "execute_result"
    }
   ],
   "source": [
    "Next_Term('1211')"
   ]
  },
  {
   "cell_type": "code",
   "execution_count": 29,
   "metadata": {},
   "outputs": [],
   "source": [
    "def Next_Term2(term):\n",
    "    \n",
    "    next_list = Parse_String(term)\n",
    "    next_term = ''\n",
    "    for l in next_list:\n",
    "        for e in l:\n",
    "            next_term += e\n",
    "    return next_term"
   ]
  },
  {
   "cell_type": "code",
   "execution_count": 30,
   "metadata": {},
   "outputs": [
    {
     "data": {
      "text/plain": [
       "'111221'"
      ]
     },
     "execution_count": 30,
     "metadata": {},
     "output_type": "execute_result"
    }
   ],
   "source": [
    "Next_Term2('1211')"
   ]
  },
  {
   "cell_type": "code",
   "execution_count": 47,
   "metadata": {},
   "outputs": [],
   "source": [
    "def Read_It(init,n):\n",
    "    i = init\n",
    "    for j in range(n-1):\n",
    "        i = Next_Term(i)\n",
    "    \n",
    "    return None"
   ]
  },
  {
   "cell_type": "code",
   "execution_count": 33,
   "metadata": {},
   "outputs": [],
   "source": [
    "def Read_It(init,n):\n",
    "    current = init\n",
    "    print(current)\n",
    "    for i in range(n-1):\n",
    "        current = Next_Term2(current)\n",
    "        print(current)\n",
    "    return None"
   ]
  },
  {
   "cell_type": "code",
   "execution_count": 34,
   "metadata": {},
   "outputs": [
    {
     "name": "stdout",
     "output_type": "stream",
     "text": [
      "1\n",
      "11\n",
      "21\n",
      "1211\n",
      "111221\n",
      "312211\n",
      "13112221\n"
     ]
    }
   ],
   "source": [
    "Read_It('1',7)"
   ]
  },
  {
   "cell_type": "markdown",
   "metadata": {},
   "source": [
    "String you functions together in the cell below.\n"
   ]
  },
  {
   "cell_type": "code",
   "execution_count": 38,
   "metadata": {},
   "outputs": [],
   "source": [
    "#Write your code here.\n",
    "def A_Read_It(init,n):\n",
    "    \n",
    "    def Parse_String(term):\n",
    "        current = [term[0]]\n",
    "        final = []\n",
    "        for i in term[1:]:\n",
    "            if i in current:\n",
    "                current.append(i)\n",
    "            else:\n",
    "                final.append([str(len(current)), current[0]])\n",
    "                current = [i]\n",
    "        final.append([str(len(current)), current[0]])\n",
    "        return final\n",
    "\n",
    "\n",
    "    \n",
    "    def Next_Term(term):\n",
    "        next_list = Parse_String(term)\n",
    "        next_term = ''\n",
    "        for i in next_list:\n",
    "            next_term = next_term + i[0] + i[1]\n",
    "    \n",
    "        return next_term\n",
    "\n",
    "\n",
    "\n",
    "    cur = init\n",
    "    print(cur)\n",
    "    for j in range(1,n):\n",
    "        cur = Next_Term(cur)\n",
    "        print(cur)\n",
    "    \n",
    "    return None"
   ]
  },
  {
   "cell_type": "code",
   "execution_count": 39,
   "metadata": {},
   "outputs": [
    {
     "name": "stdout",
     "output_type": "stream",
     "text": [
      "1\n",
      "11\n",
      "21\n",
      "1211\n",
      "111221\n",
      "312211\n",
      "13112221\n"
     ]
    }
   ],
   "source": [
    "A_Read_It('1',7)"
   ]
  },
  {
   "cell_type": "markdown",
   "metadata": {},
   "source": [
    "Get the jacard similarity beween movies and users: user_likes.txt is a text file which contains the likes data from user. The first line of the file contains the movie names. Each line of the file contains \"a user,a list of binary variables indicating whether one likes the movie.\" The binary is 1 if the user likes the movie and the variable is 0 if the user does not like or has not seen the moview. \n",
    "\n",
    "For example, the file of Jake and Dennis is:\n",
    "\n",
    "         Star Wars  Spiderman  Shell\n",
    "    Jake     1         0        0\n",
    "\n",
    "    Dennis   0         0        1\n",
    "\n",
    "And according to the wikipedia, the Jaccard similarity is (0) / (1 + 1) = 0\n",
    "\n",
    "**Your task** is to write a series of  functions and the final goal is to do movie recomendation (challenging).\n",
    "\n",
    "1. **Read_Input()**: Read in the input and generate a dictionary where the key is the name and the list is a vector of binary vectors representing whether someone has liked the movie or not. The previous example will give a dictionary like {\"Jake\": [1, 0, 0], \"Dennis\": [0, 0, 1]}. \n",
    "\n",
    "2. **Get_Names(preference)**: takes in the dictionary from the previous function and generate names of all players in a list.\n",
    "\n",
    "3. **Similarity(name_1, name_2, preference)**: This function takes in two names and generates the jaccard similarity of these two people. Jaccard similarity = the common liked movies / (the total number of liked unique moives across two persons).\n",
    "\n",
    "4. **Movie_Soul_Mate(name_1, preference)**: This function takes a person's name and generate the soul mate for this person (soul mate = the person with largest jaccard similarity)\n"
   ]
  },
  {
   "cell_type": "code",
   "execution_count": 37,
   "metadata": {},
   "outputs": [],
   "source": [
    "def Read_Input(file_name):\n",
    "    \"\"\"Read the move data, and return a preference dictionary.\"\"\"\n",
    "    f = open(file_name, 'r')\n",
    "    lines = f.readlines()\n",
    "    D = {}\n",
    "    for line in lines[1:]:\n",
    "        parse = line.strip('\\n').split(',')\n",
    "        name = parse[1]\n",
    "        pref = parse[2:]\n",
    "        D[name] = [int(num) for num in pref]\n",
    "    return D"
   ]
  },
  {
   "cell_type": "code",
   "execution_count": 57,
   "metadata": {},
   "outputs": [],
   "source": [
    "file_name = 'Data\\Movie_Preferences.csv'\n",
    "D = Read_Input(file_name)"
   ]
  },
  {
   "cell_type": "code",
   "execution_count": 49,
   "metadata": {},
   "outputs": [],
   "source": [
    "def Get_Names(preference):\n",
    "    \"\"\"Given a preference dictionary, get the names of all players.\"\"\"\n",
    "    names = []\n",
    "    for key in preference:\n",
    "        names.append(key)\n",
    "           \n",
    "    return names"
   ]
  },
  {
   "cell_type": "code",
   "execution_count": 56,
   "metadata": {},
   "outputs": [],
   "source": [
    "L = Get_Names(Read_Input(file_name))"
   ]
  },
  {
   "cell_type": "code",
   "execution_count": 51,
   "metadata": {},
   "outputs": [],
   "source": [
    "def Similarity(name_1, name_2, preference):\n",
    "    score1 = preference[name_1]\n",
    "    score2 = preference[name_2]\n",
    "    denom = 0\n",
    "    numerator = 0\n",
    "    for i in range(len(score1)):\n",
    "        denom += max(score1[i], score2[i])\n",
    "        numerator += min(score1[i], score2[i])\n",
    "    jac = numerator / denom\n",
    "    return jac\n"
   ]
  },
  {
   "cell_type": "code",
   "execution_count": 59,
   "metadata": {},
   "outputs": [
    {
     "data": {
      "text/plain": [
       "0.4"
      ]
     },
     "execution_count": 59,
     "metadata": {},
     "output_type": "execute_result"
    }
   ],
   "source": [
    "Similarity('Salih', 'Carl', D)"
   ]
  },
  {
   "cell_type": "code",
   "execution_count": 52,
   "metadata": {},
   "outputs": [],
   "source": [
    "def movie_soul_mate(name_1, preference):\n",
    "    \"\"\"Given a name, get the player that has highest Jaccard similarity with this person.\"\"\"\n",
    "    all_people = Get_Names(preference)\n",
    "    best_jac = -1\n",
    "    for people in all_people:\n",
    "        if people != name_1:\n",
    "            score = Similarity(name_1, people, preference)\n",
    "            if score > best_jac:\n",
    "                best_jac = score\n",
    "                soulmate = people\n",
    "\n",
    "    return soulmate, best_jac\n"
   ]
  },
  {
   "cell_type": "code",
   "execution_count": 58,
   "metadata": {},
   "outputs": [
    {
     "data": {
      "text/plain": [
       "('Philip Katz', 0.8)"
      ]
     },
     "execution_count": 58,
     "metadata": {},
     "output_type": "execute_result"
    }
   ],
   "source": [
    "movie_soul_mate('Salih', D)"
   ]
  },
  {
   "cell_type": "markdown",
   "metadata": {},
   "source": [
    "String your functions together in the cell below"
   ]
  },
  {
   "cell_type": "code",
   "execution_count": 64,
   "metadata": {},
   "outputs": [
    {
     "data": {
      "text/plain": [
       "('Philip Katz', 0.8)"
      ]
     },
     "execution_count": 64,
     "metadata": {},
     "output_type": "execute_result"
    }
   ],
   "source": [
    "#Write your code here\n",
    "def Read_Input(file_name):\n",
    "    \"\"\"Read the move data, and return a preference dictionary.\"\"\"\n",
    "    f = open(file_name, 'r')\n",
    "    lines = f.readlines()\n",
    "    D = {}\n",
    "    for line in lines[1:]:\n",
    "        parse = line.strip('\\n').split(',')\n",
    "        name = parse[1]\n",
    "        pref = parse[2:]\n",
    "        D[name] = [int(num) for num in pref]\n",
    "    return D\n",
    "\n",
    "\n",
    "\n",
    "def movie_soul_mate(name_1, preference):\n",
    "    \n",
    "    def Get_Names(preference):\n",
    "        \"\"\"Given a preference dictionary, get the names of all players.\"\"\"\n",
    "        names = []\n",
    "        for key in preference:\n",
    "            names.append(key)\n",
    "\n",
    "        return names\n",
    "    \n",
    "    \n",
    "    \n",
    "    def Similarity(name_1, name_2, preference):\n",
    "        score1 = preference[name_1]\n",
    "        score2 = preference[name_2]\n",
    "        denom = 0\n",
    "        numerator = 0\n",
    "        for i in range(len(score1)):\n",
    "            denom += max(score1[i], score2[i])\n",
    "            numerator += min(score1[i], score2[i])\n",
    "        jac = numerator / denom\n",
    "        \n",
    "        return jac\n",
    "\n",
    "\n",
    "\n",
    "    all_people = Get_Names(preference)\n",
    "    best_jac = -1\n",
    "    for people in all_people:\n",
    "        if people != name_1:\n",
    "            score = Similarity(name_1, people, preference)\n",
    "            if score > best_jac:\n",
    "                best_jac = score\n",
    "                soulmate = people\n",
    "\n",
    "    return soulmate, best_jac\n",
    "\n",
    "\n",
    "\n",
    "name = 'Salih'\n",
    "preference = Read_Input(file_name)\n",
    "movie_soul_mate(name, preference)"
   ]
  },
  {
   "cell_type": "code",
   "execution_count": null,
   "metadata": {},
   "outputs": [],
   "source": []
  }
 ],
 "metadata": {
  "kernelspec": {
   "display_name": "Python 3",
   "language": "python",
   "name": "python3"
  },
  "language_info": {
   "codemirror_mode": {
    "name": "ipython",
    "version": 3
   },
   "file_extension": ".py",
   "mimetype": "text/x-python",
   "name": "python",
   "nbconvert_exporter": "python",
   "pygments_lexer": "ipython3",
   "version": "3.8.3"
  },
  "toc": {
   "colors": {
    "hover_highlight": "#DAA520",
    "navigate_num": "#000000",
    "navigate_text": "#333333",
    "running_highlight": "#FF0000",
    "selected_highlight": "#FFD700",
    "sidebar_border": "#EEEEEE",
    "wrapper_background": "#FFFFFF"
   },
   "moveMenuLeft": true,
   "nav_menu": {
    "height": "30px",
    "width": "252px"
   },
   "navigate_menu": true,
   "number_sections": true,
   "sideBar": true,
   "skip_h1_title": false,
   "threshold": 4,
   "toc_cell": false,
   "toc_position": {},
   "toc_section_display": "block",
   "toc_window_display": false,
   "widenNotebook": false
  }
 },
 "nbformat": 4,
 "nbformat_minor": 2
}
